{
  "cells": [
    {
      "cell_type": "markdown",
      "metadata": {
        "colab_type": "text",
        "id": "view-in-github"
      },
      "source": [
        "<a href=\"https://colab.research.google.com/github/Sansith/gpt2sp/blob/main/Clean_data_Set.ipynb\" target=\"_parent\"><img src=\"https://colab.research.google.com/assets/colab-badge.svg\" alt=\"Open In Colab\"/></a>"
      ]
    },
    {
      "cell_type": "code",
      "execution_count": 1,
      "metadata": {
        "colab": {
          "base_uri": "https://localhost:8080/"
        },
        "id": "ph8jKtgxP-p4",
        "outputId": "8e0966c0-f259-49e1-a3a7-87df3a3ca461"
      },
      "outputs": [
        {
          "name": "stdout",
          "output_type": "stream",
          "text": [
            "/content/drive/MyDrive/Year4/FYP/effort-estimation/gpt2sp\n"
          ]
        }
      ],
      "source": [
        "cd drive/MyDrive/Year4/FYP/effort-estimation/gpt2sp"
      ]
    },
    {
      "cell_type": "code",
      "execution_count": 3,
      "metadata": {
        "colab": {
          "base_uri": "https://localhost:8080/"
        },
        "id": "TqTCCDwqR0Ta",
        "outputId": "544b8125-adbb-4b57-d76c-51bad0bb0f94"
      },
      "outputs": [
        {
          "name": "stdout",
          "output_type": "stream",
          "text": [
            "\u001b[0m\u001b[01;34mabe0\u001b[0m/                               \u001b[01;34mmodels\u001b[0m/\n",
            "\u001b[01;34mall_tokenizers\u001b[0m/                     model_training_notebook_bigBird.ipynb\n",
            "base_model_training_notebook.ipynb  model_training_notebook.ipynb\n",
            "BigBird.py                          model_training_notebook_new_impl.ipynb\n",
            "Clean_data_Set.ipynb                \u001b[01;34m__pycache__\u001b[0m/\n",
            "\u001b[01;34mcorpus_tokenization_comparison\u001b[0m/     README.md\n",
            "\u001b[01;34mcustom_transformers_interpret\u001b[0m/      \u001b[01;34mresults\u001b[0m/\n",
            "\u001b[01;34mdata_model_analysis\u001b[0m/                \u001b[01;34msp_dataset\u001b[0m/\n",
            "GPT2SPEN.py                         \u001b[01;34mtb\u001b[0m/\n",
            "GPT2SP_inspection_notebook.ipynb    tokenizer_training_notebook.ipynb\n",
            "GPT2SP.py                           vocab_and_tokenization_comparison.ipynb\n",
            "LICENSE                             \u001b[01;34mwandb\u001b[0m/\n",
            "\u001b[01;34mlogo\u001b[0m/                               \u001b[01;34mxai_tokens\u001b[0m/\n"
          ]
        }
      ],
      "source": [
        "ls"
      ]
    },
    {
      "cell_type": "code",
      "execution_count": 13,
      "metadata": {
        "id": "gDG24j93akp8"
      },
      "outputs": [],
      "source": [
        "def remove_jira_syntax(text):\n",
        "    # Remove headings\n",
        "    text = re.sub(r'h[1-6]\\.\\s+', '', text)\n",
        "\n",
        "    # Remove text effects\n",
        "    effects_patterns = [\n",
        "        r'\\*(.*?)\\*',  # bold\n",
        "        r'_(.*?)_',    # italic\n",
        "        r'\\?\\?(.*?)\\?\\?',  # citation\n",
        "        r'-(.*?)-',    # deleted\n",
        "        r'\\+(.*?)\\+',  # inserted\n",
        "        r'\\^(.*?)\\^',  # superscript\n",
        "        r'~(.*?)~',    # subscript\n",
        "        r'\\{\\{(.*?)\\}\\}',  # monospaced\n",
        "        r'\\{quote\\}(.*?)\\{quote\\}',  # block quote\n",
        "        r'\\{color:[^}]+\\}(.*?)\\{color\\}',  # colored text\n",
        "    ]\n",
        "    for pattern in effects_patterns:\n",
        "        text = re.sub(pattern, r'\\1', text)\n",
        "\n",
        "    # Remove links and media\n",
        "    links_patterns = [\n",
        "        (r'\\[.*?\\|(.*?)\\]', r'\\1'),  # Keep the text after the pipe\n",
        "        (r'\\[https?:[^\\]]+\\]', ''),  # Remove external links\n",
        "        (r'\\[mailto:[^\\]]+\\]', ''),  # Remove email links\n",
        "        (r'\\[file:[^\\]]+\\]', ''),    # Remove file links\n",
        "        (r'\\[~[^\\]]+\\]', '')         # Remove user profile links\n",
        "    ]\n",
        "\n",
        "    # Apply each pattern and replacement in sequence\n",
        "    for pattern, replacement in links_patterns:\n",
        "        text = re.sub(pattern, replacement, text)\n",
        "\n",
        "    # Remove lists, images, attachments, tables, and advanced formatting\n",
        "    # This part is highly dependent on your specific needs and might require custom logic\n",
        "    # to retain meaningful text while removing the syntax. Basic examples:\n",
        "    text = re.sub(r'(![^\\s]+?\\!)', '', text)  # Remove images\n",
        "    text = re.sub(r'\\{anchor:[^}]+\\}', '', text)  # Remove anchors\n",
        "    text = re.sub(r'\\|\\|.*?\\|\\|', '', text)  # Remove table headers\n",
        "    text = re.sub(r'\\|.*?\\|', '', text)  # Remove table rows\n",
        "    text = re.sub(r'\\{[^}]+\\}', '', text)  # Remove advanced blocks like {panel} or {code}\n",
        "\n",
        "    # Remove miscellaneous characters and cleanup\n",
        "    text = re.sub(r'\\\\[\\\\@]', '', text)  # Escaped characters\n",
        "    text = text.replace('----', '')  # Horizontal ruler\n",
        "    text = re.sub(r'\\n{2,}', '\\n', text)  # Multiple newlines\n",
        "\n",
        "    return text"
      ]
    },
    {
      "cell_type": "code",
      "execution_count": 18,
      "metadata": {
        "id": "NE4TLRXoQNAL"
      },
      "outputs": [],
      "source": [
        "import pandas as pd\n",
        "import re\n",
        "\n",
        "# Define the path to the Excel file\n",
        "excel_file_path = './sp_dataset/marked_data/'\n",
        "excel_file_out_path = './sp_dataset/sanatized/'\n",
        "# Define the column index (starting from 0) or column name to clean\n",
        "column_to_clean = 'description'\n",
        "\n",
        "# Load the Excel file\n",
        "def remove_html_tags(html_text):\n",
        "    # Define the regex pattern for HTML tags\n",
        "    pattern = re.compile('<.*?>')\n",
        "    # Use the sub() method to replace all occurrences of the pattern with a \"|\" separator\n",
        "    # Note: This will insert \"|\" where every HTML tag was, which may not be visually appealing\n",
        "    clean_text = re.sub(pattern, '/', html_text)\n",
        "    # Optionally, you might want to clean up multiple consecutive separators\n",
        "    clean_text = re.sub('\\/+', '/', clean_text).strip('|')\n",
        "    return clean_text\n",
        "\n",
        "# Function to clean a single text entry\n",
        "def clean_text(_text):\n",
        "    text = str(_text if _text else \" \")\n",
        "    text = remove_jira_syntax(text)\n",
        "    text = remove_html_tags(text)\n",
        "    # Remove special characters like asterisks and dashes\n",
        "    text = re.sub(r\"[\\*\\-]+\", \" \", text)\n",
        "    # Standardize sections\n",
        "    text = re.sub(r\"\\*DO\\*\", \"\\nDO:\\n\", text, flags=re.IGNORECASE)\n",
        "    text = re.sub(r\"\\*Check\\*\", \"\\nCHECK:\\n\", text, flags=re.IGNORECASE)\n",
        "    # Remove URLs\n",
        "    text = re.sub(r'https?://\\S+|www\\.\\S+', '', text)\n",
        "    # Replace newlines and tabs with a space\n",
        "    text = text.replace(\"\\n\", \" \").replace(\"\\t\", \" \")\n",
        "    # Convert to lowercase\n",
        "    text = text.lower()\n",
        "    return text\n"
      ]
    },
    {
      "cell_type": "code",
      "execution_count": 3,
      "metadata": {
        "colab": {
          "base_uri": "https://localhost:8080/"
        },
        "id": "Lx_OeYYLSWc-",
        "outputId": "9ed105ae-0e73-4445-ef7e-4e8dbaaddd19"
      },
      "outputs": [
        {
          "ename": "NameError",
          "evalue": "name 'df' is not defined",
          "output_type": "error",
          "traceback": [
            "\u001b[0;31m---------------------------------------------------------------------------\u001b[0m",
            "\u001b[0;31mNameError\u001b[0m                                 Traceback (most recent call last)",
            "Cell \u001b[0;32mIn[3], line 1\u001b[0m\n\u001b[0;32m----> 1\u001b[0m \u001b[43mdf\u001b[49m[column_to_clean]\n",
            "\u001b[0;31mNameError\u001b[0m: name 'df' is not defined"
          ]
        }
      ],
      "source": [
        "df[column_to_clean]\n"
      ]
    },
    {
      "cell_type": "code",
      "execution_count": 11,
      "metadata": {
        "cellView": "form",
        "colab": {
          "base_uri": "https://localhost:8080/",
          "height": 391
        },
        "id": "gwpr3BEySl_i",
        "outputId": "cb104578-e31c-459e-9888-4405053716d8"
      },
      "outputs": [
        {
          "data": {
            "image/png": "[encoded data removed]",
            "text/plain": [
              "<Figure size 800x400 with 1 Axes>"
            ]
          },
          "metadata": {},
          "output_type": "display_data"
        }
      ],
      "source": [
        "# @title storypoint\n",
        "\n",
        "from matplotlib import pyplot as plt\n",
        "df['storypoint'].plot(kind='line', figsize=(8, 4), title='storypoint')\n",
        "plt.gca().spines[['top', 'right']].set_visible(False)"
      ]
    },
    {
      "cell_type": "code",
      "execution_count": 19,
      "metadata": {
        "colab": {
          "base_uri": "https://localhost:8080/",
          "height": 1000
        },
        "id": "v8VdI4OURxc6",
        "outputId": "9ca70db2-3c70-4489-eac7-0fd04ef58a8c"
      },
      "outputs": [
        {
          "name": "stdout",
          "output_type": "stream",
          "text": [
            "Data cleaning completed and written back to the Excel file.\n",
            "Data cleaning completed and written back to the Excel file.\n",
            "Data cleaning completed and written back to the Excel file.\n",
            "Data cleaning completed and written back to the Excel file.\n",
            "Data cleaning completed and written back to the Excel file.\n",
            "Data cleaning completed and written back to the Excel file.\n",
            "Data cleaning completed and written back to the Excel file.\n",
            "Data cleaning completed and written back to the Excel file.\n",
            "Data cleaning completed and written back to the Excel file.\n",
            "Data cleaning completed and written back to the Excel file.\n",
            "Data cleaning completed and written back to the Excel file.\n",
            "Data cleaning completed and written back to the Excel file.\n",
            "Data cleaning completed and written back to the Excel file.\n",
            "Data cleaning completed and written back to the Excel file.\n",
            "Data cleaning completed and written back to the Excel file.\n",
            "Data cleaning completed and written back to the Excel file.\n"
          ]
        }
      ],
      "source": [
        "def clean_ds (file_name):\n",
        "    \n",
        "    df = pd.read_csv(excel_file_path+ file_name+\".csv\")\n",
        "    # Apply the cleaning function to the specified column\n",
        "    df[column_to_clean] = df[column_to_clean].apply(clean_text)\n",
        "\n",
        "    # Write the cleaned data back to the same Excel file\n",
        "    df.to_csv(excel_file_out_path + file_name + \".csv\", index=False)\n",
        "\n",
        "    print(\"Data cleaning completed and written back to the Excel file.\")\n",
        "\n",
        "\n",
        "\n",
        "TRAIN_TEST_FILE_PAIRS = [\n",
        "                        {'train': ['appceleratorstudio'], 'test': ['appceleratorstudio']},\n",
        "                        {'train': ['aptanastudio'], 'test': ['aptanastudio']},\n",
        "                        {'train': ['bamboo'], 'test': ['bamboo']},\n",
        "                        {'train': ['clover'], 'test': ['clover']},\n",
        "                        {'train': ['datamanagement'], 'test': ['datamanagement']},\n",
        "                        {'train': ['duracloud'], 'test': ['duracloud']},\n",
        "                        {'train': ['jirasoftware'], 'test': ['jirasoftware']},\n",
        "                        {'train': ['mesos'], 'test': ['mesos']},\n",
        "                        {'train': ['moodle'], 'test': ['moodle']},\n",
        "                        {'train': ['mule'], 'test': ['mule']},\n",
        "                        {'train': ['mulestudio'], 'test': ['mulestudio']},\n",
        "                        {'train': ['springxd'], 'test': ['springxd']},\n",
        "                        {'train': ['talenddataquality'], 'test': ['talenddataquality']},\n",
        "                        {'train': ['talendesb'], 'test': ['talendesb']},\n",
        "                        {'train': ['titanium'], 'test': ['titanium']},\n",
        "                        {'train': ['usergrid'], 'test': ['usergrid']},\n",
        "                        ]\n",
        "\n",
        "for file in TRAIN_TEST_FILE_PAIRS:\n",
        "    clean_ds(str(file[\"train\"][0]))"
      ]
    },
    {
      "cell_type": "code",
      "execution_count": null,
      "metadata": {
        "id": "pHKxYFPoS2s1"
      },
      "outputs": [],
      "source": []
    }
  ],
  "metadata": {
    "colab": {
      "authorship_tag": "ABX9TyMOHseFQhcldPwWwyUEaoLs",
      "include_colab_link": true,
      "mount_file_id": "1gVSWKZJ3FCi9U9nrXB5UIvyHcuKqQzuY",
      "provenance": []
    },
    "kernelspec": {
      "display_name": "Python 3",
      "name": "python3"
    },
    "language_info": {
      "codemirror_mode": {
        "name": "ipython",
        "version": 3
      },
      "file_extension": ".py",
      "mimetype": "text/x-python",
      "name": "python",
      "nbconvert_exporter": "python",
      "pygments_lexer": "ipython3",
      "version": "3.10.13"
    }
  },
  "nbformat": 4,
  "nbformat_minor": 0
}
